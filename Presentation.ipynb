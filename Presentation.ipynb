{
 "cells": [
  {
   "cell_type": "markdown",
   "metadata": {},
   "source": [
    "# Uniti Assignment - install probability prediction\n",
    "\n",
    "Goal: Predict install probability for add install event given a set of features. \n",
    "\n",
    "## Task description\n",
    "\n",
    "The data is a sample from our production environment. Each row refers to an impression (start of a video ad belonging to the specific campaign), and includes input features and an install label indicating whether the impression resulted in the install of the advertised game or not.\n",
    "\n",
    "Input features and install label are provided for the training data (trainingData.csv). The test data (testData.csv) includes only the input features. Your task is to predict install probability for all the available impressions in the test data.\n",
    "\n",
    "Return: \n",
    "1. Predicted install probability for each impression Id in the test data.\n",
    "2. Source code for your solution. Feel free to select language/tools that you see appropriate.\n",
    "3. A report in which you explain/justify your choices and analyze your solution.\n",
    "\n",
    "Notice: There is no one single correct solution. You may also provide ideas how you would continue after your proposed solution."
   ]
  },
  {
   "cell_type": "markdown",
   "metadata": {},
   "source": [
    "## The data\n",
    "\n",
    "<a id='TL;DR'></a>\n",
    "<div class=\" alert alert-warning\">\n",
    "    <b>tl;dr.</b> \n",
    "\n",
    "  <li>The ultimate task is to recommend ads but the problem statement is not acknowledging this. Rather than modelling $p(y|x)$, where $y$ is the install event and $x$ contains the features and the action $a=$campaignId, it would be more suitable to model $p(y|x,a)$ from the data. The conceptual difference is that $x$ is assumed to be given and we do not have any control in its creation, while, $a$ is our action. This is my main critisem to the task, as I think the prediction and recommendation should be modelled jointly (and not having a model for recommending campains and then using the recommendation as part of the feature space of a model for predicting installs. </li>\n",
    "  <li>To create a representation for the action, we could have exploited the user interactions with the advertised ads by creating user ID vs campain ID matrix and use a function (e.g., latent factorization) of it for action representation, but the user ID is missing from the data. </li>\n",
    "  <li>User ID (history of campains recommended) is missing from the data but potentially important. I guess you have this as you compute features such as installCount.</li>\n",
    "  <li>I have done many quick sub-optimal hacks for feature engineering. These hacks are not the best ways to handle the data. My aim was to try to not add many features for categorical data decoding at this stage, as I was more interested to just investage a baseline solution and investigate the feature contributions.</li>\n",
    "  <li>Quick summary of engineerings: I am removing the two time features and creating a new one experssing the difference between those two in minutes (also took care of nulls and added suggestions for other ways to exploit the time features), I am removing some of the categorical featuers, and replacing others by values such as frequency, I am replacing the software version by the first integer in the string, I am replacing countries by a feature representing prior knowledge for per country install ratio (a bit cheating),... </li>\n",
    "</div>\n",
    " "
   ]
  },
  {
   "cell_type": "markdown",
   "metadata": {},
   "source": [
    "The following block loads the training data and prints some primitive statistics. "
   ]
  },
  {
   "cell_type": "code",
   "execution_count": null,
   "metadata": {},
   "outputs": [],
   "source": [
    "import numpy as np\n",
    "import pandas as pd\n",
    "from matplotlib import pyplot as plt"
   ]
  },
  {
   "cell_type": "code",
   "execution_count": null,
   "metadata": {
    "scrolled": true
   },
   "outputs": [],
   "source": [
    "tr_filename = \"training_data.csv\"\n",
    "# load the whole training data (no need to chunk it!)\n",
    "tr_data = pd.read_csv(tr_filename, sep=';')\n",
    "# print basic statistics about the data\n",
    "print(tr_data.info())\n",
    "Y = tr_data['install']\n",
    "print(\"Number of installs: {},\".format(Y.sum()))\n",
    "print(\"Percentage of installs: {:f},\".format((Y.sum()/Y.shape[0])))"
   ]
  },
  {
   "cell_type": "markdown",
   "metadata": {},
   "source": [
    "The training data contains $n=2206990$ instances with $d=16$ features and the corresponding responses $y \\in \\{0,1\\}$  indicates whether install was observed (install=1) or was not observed (install=0) after impression. The data set is very unbalanced as the occurance of an install event is only $\\%1.2$.\n",
    "\n",
    "Let's print the first five rows of the dataset."
   ]
  },
  {
   "cell_type": "code",
   "execution_count": null,
   "metadata": {
    "scrolled": true
   },
   "outputs": [],
   "source": [
    "with pd.option_context('display.max_rows', 5, 'display.max_columns', None, 'display.width', 100):\n",
    "    print(tr_data.head())"
   ]
  },
  {
   "cell_type": "markdown",
   "metadata": {},
   "source": [
    "Let's look at the null values in the data. "
   ]
  },
  {
   "cell_type": "code",
   "execution_count": null,
   "metadata": {},
   "outputs": [],
   "source": [
    "## check for duplicated data rows --> no need. IDs are all unique\n",
    "#print(\"There are {} duplicated rows \".format(tr_data.duplicated().sum()))\n",
    "\n",
    "print(\"Number of nulls per feature:\")\n",
    "print(tr_data.isnull().sum())\n",
    "\n",
    "print(\"number of installs in country nulls: {}\".format(Y[tr_data['country'].isnull()].sum()))\n",
    "print(\"number of installs in lastStart nulls: {}\".format(Y[tr_data['lastStart'].isnull()].sum()))"
   ]
  },
  {
   "cell_type": "markdown",
   "metadata": {},
   "source": [
    "A quick way to handle the null values is to just discard the corresponding rows from the dataset. However, lastStart feature has a huge number of nulls where 2821 of those rows have install event (around 10 percent of the total rows with install event), therefore it is better to handle them in another way. We will take care of these in the next sections where we look deeper at individual features.\n",
    "\n",
    "Let's look at the features one by one"
   ]
  },
  {
   "cell_type": "code",
   "execution_count": null,
   "metadata": {},
   "outputs": [],
   "source": [
    "for name in tr_data.columns:\n",
    "    print(name)\n",
    "    print(tr_data[name].describe(), \"\\n\")"
   ]
  },
  {
   "cell_type": "markdown",
   "metadata": {},
   "source": [
    "### *id*: \n",
    "* Indicates the impression ID. \n",
    "* All ID's are unique. \n",
    "* This feature will be discarded."
   ]
  },
  {
   "cell_type": "code",
   "execution_count": null,
   "metadata": {},
   "outputs": [],
   "source": [
    "# remove \"id\" column and save the data in a new variable\n",
    "tr_data_m = tr_data.drop(columns=\"id\")"
   ]
  },
  {
   "cell_type": "markdown",
   "metadata": {},
   "source": [
    "### *timestamp* and *lastStart*:   \n",
    "* **timestamp**: time of the event in UTC.\n",
    "* **LastStart**: the time of users last start event (any campaign) (I assume in UTC).\n",
    "* These are the two time features in the data. Potentially can be useful as:\n",
    "* 1) their interaction might have an influence on the response variable. \n",
    "* 2) user's behaviour may depend on the time of the day (e.g., people might be more likely to instal an app in the evenning or over the weekend than working hours(?)). To test this, we also need to convert the UTC time zone to a local time zone using data in the \"country\" feature and also add new features such as \"weekend\" to the data.  \n",
    "* For now I only consider the first point due to my personal time constrains. \n",
    "* In the following code box, first I will also replace the nan values in 'lastStart' with the corresponding values in 'timestamp' and then I will define a new feature ('epoch_diff') as the difference in minutes between the 'timestamp' and 'lastStart', and drop the old features. "
   ]
  },
  {
   "cell_type": "code",
   "execution_count": null,
   "metadata": {},
   "outputs": [],
   "source": [
    "# replace nan values in 'lastStart' with values in 'timestamp'\n",
    "nan_idx = tr_data['lastStart'].isnull()\n",
    "tr_data_m['lastStart'].loc[nan_idx] = tr_data_m['timestamp'][nan_idx]\n",
    "\n",
    "# convert the string objects to datetime\n",
    "tr_data_m['timestamp'] = pd.to_datetime(tr_data_m['timestamp'],infer_datetime_format=True)\n",
    "tr_data_m['lastStart'] = pd.to_datetime(tr_data_m['lastStart'],infer_datetime_format=True)\n",
    "\n",
    "# convert times to epoch in minutes\n",
    "epoch_timestamp = pd.to_datetime(tr_data_m['timestamp']).astype(np.int64) // (10**9 * 60)\n",
    "epoch_lastStart = pd.to_datetime(tr_data_m['lastStart']).astype(np.int64) // (10**9 * 60)\n",
    "\n",
    "# create a new feature of difference in timestamp and lastStart in minutes\n",
    "tr_data_m['epoch_diff'] = epoch_timestamp - epoch_lastStart\n",
    "\n",
    "#print(tr_data_m['timestamp'][:10])\n",
    "#print(tr_data_m['lastStart'][:10])\n",
    "#print(tr_data_m['epoch_diff'][:10])\n",
    "\n",
    "# remove \"timestamp\" column\n",
    "tr_data_m = tr_data_m.drop(columns=\"timestamp\")\n",
    "tr_data_m = tr_data_m.drop(columns=\"lastStart\")"
   ]
  },
  {
   "cell_type": "markdown",
   "metadata": {},
   "source": [
    "### *campaignId*: \n",
    "* The campaign id of the advertising campaign. \n",
    "* I guess this is all we have about the recommended ads. \n",
    "* There are 5704 unique campaigns.\n",
    "* The dataset is biased based on this feature, as I guess the campainId is selected by an intellligent algorithm.\n",
    "* The following code box looks at the distribution of campains over number of appearances and number of installs."
   ]
  },
  {
   "cell_type": "code",
   "execution_count": null,
   "metadata": {
    "scrolled": true
   },
   "outputs": [],
   "source": [
    "# compute campain frequencies\n",
    "campainId_counts = tr_data_m['campaignId'].value_counts()\n",
    "#find the number of installs for each campainId\n",
    "install_1_frame = tr_data_m[tr_data_m['install'] == 1]\n",
    "install_per_campain = np.zeros(campainId_counts.shape[0])\n",
    "for i in range(campainId_counts.shape[0]):  \n",
    "    install_per_campain[i] = sum(install_1_frame['campaignId'] == campainId_counts.index[i])\n",
    "\n",
    "# plot campain frequencies against number of installs\n",
    "plt.figure()\n",
    "plt.plot(campainId_counts,install_per_campain,'.', label='campain')\n",
    "plt.plot([0,campainId_counts[0]],[0,campainId_counts[0]*(Y.sum()/Y.shape[0])], label='average install')\n",
    "plt.legend()\n",
    "plt.title(\"campain frequency against number of installs\")\n",
    "plt.xlabel(\"campain frequency\")\n",
    "plt.ylabel(\"number of installs\")\n",
    "\n",
    "# plot install ratio for frequent campains\n",
    "#install_ratio = install_per_campain/campainId_counts\n",
    "#plt.figure()\n",
    "#plt.plot(range(1000),100*install_ratio[:1000],'.')\n",
    "#plt.title(\"Install ratio of popular campains (more than {} appearance)\".format(campainId_counts[100]))\n",
    "#plt.xlabel(\"frequent campains (sorted)\")\n",
    "#plt.ylabel(\"install ratio\")\n",
    "\n",
    "plt.show()\n",
    "\n",
    "#print(campainId_counts)\n",
    "#print(install_per_campain)\n",
    "#print(install_ratio)"
   ]
  },
  {
   "cell_type": "markdown",
   "metadata": {},
   "source": [
    "* There figure shows three things: 1) the expected correlation between number of installs and number of recommendation of the campains 2) huge number of campains have only been recommended very few times 3) A bit concerning point that there are a few extremely frequent recommended campains that have lower than average install ratio, while some better than average campains that are not recommended that frequently. This is bothersome as it may indicate a sub-optimal performance in the recommendation part.\n",
    "* We need to find a good representation for campains (see next box)"
   ]
  },
  {
   "cell_type": "markdown",
   "metadata": {},
   "source": [
    "<a id='What I would have done..'></a>\n",
    "<div class=\" alert alert-warning\">\n",
    "    <b>What I would have done...</b> \n",
    "\n",
    "<br />\n",
    "It would be crucially important for the core reommendation task to have a feature representation for campains. Unfortunately, it seems that Unity does not have these information. I can think of two ways to do this: (i) try to generate features from the campain itself (e.g., from the textual description of the campain or the video).(ii) generate features for campain based on the interaction data (e.g., if two users installed a couple of similiar campains, then the information about one user can be generalized to the other one for the recommendation). It seems that approach (i) has not been successful. However, it should be possible to exploit the interaction data in (ii). For this, I would need to have a unique user ID to be able to create the sparse matrix of campaignId vs. user_id, where the elements indicate install or no-install event. I could then use matrix factorization and try to estimate this big matrix with two simpler matrix (e.g., AV), and learn these simpler (low dimensional) matrices by minimizing the reconstruction error. I would then be able to use rows of A as a feature representation for campains.   \n",
    "</div>"
   ]
  },
  {
   "cell_type": "markdown",
   "metadata": {},
   "source": [
    "* As for now, I just represent each campain with its frequency. Please note that this is not a good (or stable) approach since as the designer of the recommender system, we are also controlling the frequency of campain observations. Anyway, this would be hack for now (but not that optimal as we are losing a lot of information). Next code block creates this new feature."
   ]
  },
  {
   "cell_type": "code",
   "execution_count": null,
   "metadata": {
    "scrolled": true
   },
   "outputs": [],
   "source": [
    "# first conver the campainId_counts to a dict\n",
    "campainId_dict = campainId_counts.to_dict()\n",
    "\n",
    "campain_freq = np.zeros(tr_data_m.shape[0])\n",
    "for i in range(tr_data_m.shape[0]):\n",
    "    campain_freq[i] = campainId_dict[tr_data_m['campaignId'][i]]\n",
    "\n",
    "# add the new feature to the data frame\n",
    "tr_data_m.insert(1, 'campain_freq', campain_freq)\n",
    "\n",
    "# remove 'campaignId' column\n",
    "tr_data_m = tr_data_m.drop(columns=\"campaignId\")"
   ]
  },
  {
   "cell_type": "markdown",
   "metadata": {},
   "source": [
    "### *platform*: \n",
    "* User's platform (two options: android and ios)\n",
    "* The following box convert this to binary feature."
   ]
  },
  {
   "cell_type": "code",
   "execution_count": null,
   "metadata": {},
   "outputs": [],
   "source": [
    "# convert platform to binary values (1:ios, 0:android)\n",
    "print(tr_data_m['platform'].value_counts())\n",
    "tr_data_m['platform'] = tr_data_m['platform'] == 'ios' \n",
    "tr_data_m['platform'] = tr_data_m['platform'].astype(np.int64)"
   ]
  },
  {
   "cell_type": "markdown",
   "metadata": {},
   "source": [
    "### *softwareVersion*: \n",
    "* Software version of the device.\n",
    "* There are 174 different software versions.  \n",
    "* To simplify this feature, we extract the first number in the 'softwareVersion' string and consider it as the representative of the software version. The following code block builds this new feature 'softwareVersion_num' and drops 'softwareVersion' column."
   ]
  },
  {
   "cell_type": "code",
   "execution_count": null,
   "metadata": {},
   "outputs": [],
   "source": [
    "# the following simple function finds the first number in an string\n",
    "def find_first_num(input_str):\n",
    "    for i, c in enumerate(input_str):\n",
    "        if c.isdigit():\n",
    "            start = i\n",
    "            while i < len(input_str) and input_str[i].isdigit():\n",
    "                i += 1\n",
    "            #print('Integer %d found at position %d' % (int(input_str[start:i]), start))\n",
    "            return int(input_str[start:i])\n",
    "    return 0\n",
    "\n",
    "# save the first number in the version string in an int array\n",
    "soft_ver_num = np.zeros(tr_data_m.shape[0])\n",
    "for i in range(tr_data_m.shape[0]):\n",
    "    soft_ver_num[i] = find_first_num(tr_data_m['softwareVersion'][i])\n",
    "\n",
    "# add the new feature to the data frame\n",
    "tr_data_m.insert(1, 'softwareVersion_num', soft_ver_num)\n",
    "\n",
    "# remove 'softwareVersion' column\n",
    "tr_data_m = tr_data_m.drop(columns=\"softwareVersion\")\n",
    "\n",
    "# uncomment the following two lines to see how the values have changed\n",
    "#print(tr_data_m['softwareVersion_num'].value_counts())\n",
    "#print(tr_data['softwareVersion'].value_counts())"
   ]
  },
  {
   "cell_type": "markdown",
   "metadata": {},
   "source": [
    "### *sourceGameId*: \n",
    "* The game id of the publishing game.\n",
    "* Similar analysis to 'campaignId' will be applied here."
   ]
  },
  {
   "cell_type": "code",
   "execution_count": null,
   "metadata": {},
   "outputs": [],
   "source": [
    "# compute sourceGameId frequencies\n",
    "gameId_counts = tr_data_m['sourceGameId'].value_counts()\n",
    "#find the number of installs for each gameId\n",
    "install_1_frame = tr_data_m[tr_data_m['install'] == 1]\n",
    "install_per_gameId = np.zeros(gameId_counts.shape[0])\n",
    "for i in range(gameId_counts.shape[0]):  \n",
    "    install_per_gameId[i] = sum(install_1_frame['sourceGameId'] == gameId_counts.index[i])\n",
    "\n",
    "# plot gameId frequencies against number of installs\n",
    "plt.figure()\n",
    "plt.plot(gameId_counts,install_per_gameId,'.', label='gameID')\n",
    "plt.plot([0,max(gameId_counts)],[0,max(gameId_counts)*(Y.sum()/Y.shape[0])], label='average install')\n",
    "plt.legend()\n",
    "plt.title(\"gameId frequency against number of installs\")\n",
    "plt.xlabel(\"gameId frequency\")\n",
    "plt.ylabel(\"number of installs\")\n",
    "\n",
    "plt.show()"
   ]
  },
  {
   "cell_type": "markdown",
   "metadata": {},
   "source": [
    "* Clear linear correlation (probably not much information in this coding). Let's use the frequency (similar to 'campaignId') as the new feature and remove the old feature (again we are losing information but this is just a quick hack)."
   ]
  },
  {
   "cell_type": "code",
   "execution_count": null,
   "metadata": {},
   "outputs": [],
   "source": [
    "# first convert the gameId_counts to a dict\n",
    "gameId_dict = gameId_counts.to_dict()\n",
    "\n",
    "gameId_freq = np.zeros(tr_data_m.shape[0])\n",
    "for i in range(tr_data_m.shape[0]):\n",
    "    gameId_freq[i] = gameId_dict[tr_data_m['sourceGameId'][i]]\n",
    "\n",
    "# add the new feature to the data frame\n",
    "tr_data_m.insert(1, 'gameId_freq', gameId_freq)\n",
    "\n",
    "# remove 'sourceGameId' column\n",
    "tr_data_m = tr_data_m.drop(columns=\"sourceGameId\")"
   ]
  },
  {
   "cell_type": "markdown",
   "metadata": {},
   "source": [
    "### *country*: \n",
    "* The country of the user (total 220 counteries).\n",
    "* This feature can also help us to convert the time zones to local time (see explanations above).\n",
    "* There are 101 nulls in this column (only one of them has install event). We drop the corresponding rows."
   ]
  },
  {
   "cell_type": "code",
   "execution_count": null,
   "metadata": {},
   "outputs": [],
   "source": [
    "# drop all the nulls (they are only from from 'country' feature) the dataset.\n",
    "print(tr_data_m['country'].isnull().sum())\n",
    "tr_data_m.dropna(axis=0, how='any',inplace = True)\n",
    "print(tr_data_m['country'].isnull().sum())\n",
    "tr_data_m.reset_index(inplace=True)\n",
    "\n",
    "# compute country frequencies\n",
    "country_counts = tr_data_m['country'].value_counts()\n",
    "#find the number of installs for each country\n",
    "install_1_frame = tr_data_m[tr_data_m['install'] == 1]\n",
    "install_per_country = np.zeros(country_counts.shape[0])\n",
    "for i in range(country_counts.shape[0]):  \n",
    "    install_per_country[i] = sum(install_1_frame['country'] == country_counts.index[i])\n",
    "\n",
    "# visualize the install ratio for the most popular countries\n",
    "install_per_country_ratio = install_per_country/country_counts\n",
    "plt.plot(install_per_country_ratio[:30]*100,'.')\n",
    "plt.plot([0,30],[100*Y.sum()/Y.shape[0],100*Y.sum()/Y.shape[0]], label='average install')\n",
    "plt.xticks(rotation=90)\n",
    "plt.title(\"Install ratio of frequent countries\")\n",
    "plt.xlabel(\"frequent countries\")\n",
    "plt.ylabel(\"install ratio\")\n",
    "plt.show()\n",
    "\n",
    "#print(country_counts)\n",
    "#print(install_per_country)\n",
    "#print(install_per_country_ratio)    "
   ]
  },
  {
   "cell_type": "markdown",
   "metadata": {},
   "source": [
    "* I will use the ratio of installs of each country as a new feature value. This to some extent justifiable as it encapsulates the prior knowledge we have about each country. At the same time it is a bit dangerous since we use the training data label information here. The following code box creates this new feature and removes the old one."
   ]
  },
  {
   "cell_type": "code",
   "execution_count": null,
   "metadata": {},
   "outputs": [],
   "source": [
    "# first convert the install_per_country_ratio to a dict\n",
    "country_dict = install_per_country_ratio.to_dict()\n",
    "country_freq = np.zeros(tr_data_m.shape[0])\n",
    "for i in range(tr_data_m.shape[0]):\n",
    "    country_freq[i] = country_dict[tr_data_m['country'][i]]\n",
    "\n",
    "# add the new feature to the data frame\n",
    "tr_data_m.insert(1, 'country_ratio', country_freq)\n",
    "\n",
    "# remove 'sourceGameId' column\n",
    "tr_data_m = tr_data_m.drop(columns=\"country\")"
   ]
  },
  {
   "cell_type": "markdown",
   "metadata": {},
   "source": [
    "### *startCount*, *viewCount*, *clickCount*, *installCount*, *startCount1d*, and *startCount7d* : \n",
    "* **startCount**: how many times the user has ever started a campaign ever\n",
    "* **viewCount**: how many times the user has ever viewed a campaign ever\n",
    "* **clickCount**: how many times the user has ever clicked a campaign ever\n",
    "* **installCount**: how many times the user has installed games from this network ever\n",
    "* **startCount1d**: how many times user has started (any) campaigns within the last 24h\n",
    "* **startCount7d**: how many times user has started (any) campaigns within the last 7 days\n",
    "* These seems to be in a a good format. Let's keep them that way.\n"
   ]
  },
  {
   "cell_type": "markdown",
   "metadata": {},
   "source": [
    "### connectionType : \n",
    "* Internet connection type (three types: wifi, cellular, none)\n",
    "* The following code block creates two new features ('wifi' and 'cellular') and removes 'connectionType'."
   ]
  },
  {
   "cell_type": "code",
   "execution_count": null,
   "metadata": {},
   "outputs": [],
   "source": [
    "print(tr_data_m['connectionType'].value_counts())\n",
    "\n",
    "tr_data_m['wifi'] = tr_data_m['connectionType'] == 'wifi' \n",
    "tr_data_m['wifi'] = tr_data_m['wifi'].astype(np.int64)\n",
    "\n",
    "tr_data_m['cellular'] = tr_data_m['connectionType'] == 'cellular' \n",
    "tr_data_m['cellular'] = tr_data_m['cellular'].astype(np.int64)\n",
    "\n",
    "# remove 'connectionType' column\n",
    "tr_data_m = tr_data_m.drop(columns=\"connectionType\")"
   ]
  },
  {
   "cell_type": "markdown",
   "metadata": {},
   "source": [
    "###  deviceType:              \n",
    "* Device model (total of 22476 models)\n",
    "* Would be interesting to see if there is a different install behaviour between people with more high-tech devices or people with tablets, or different brands (Iphone vs. Samsung). The following code block looks at the install ratio of most popular devices. \n",
    "* Due to my time constrains, I will remove this column for now (may get back to this later)."
   ]
  },
  {
   "cell_type": "code",
   "execution_count": null,
   "metadata": {},
   "outputs": [],
   "source": [
    "# compute device frequencies\n",
    "device_counts = tr_data_m['deviceType'].value_counts()\n",
    "#find the number of installs for each device\n",
    "install_1_frame = tr_data_m[tr_data_m['install'] == 1]\n",
    "install_per_device = np.zeros(device_counts.shape[0])\n",
    "for i in range(device_counts.shape[0]):  \n",
    "    install_per_device[i] = sum(install_1_frame['deviceType'] == device_counts.index[i])\n",
    "\n",
    "# visualize the install ratio for the most popular device types\n",
    "install_per_device_ratio = install_per_device/device_counts\n",
    "plt.plot(install_per_device_ratio[:30]*100,'.')\n",
    "plt.plot([0,30],[100*Y.sum()/Y.shape[0],100*Y.sum()/Y.shape[0]], label='average install')\n",
    "plt.title(\"Install ratio of frequent devices\")\n",
    "plt.xticks(rotation=90)\n",
    "plt.xlabel(\"frequent devices\")\n",
    "plt.ylabel(\"install ratio\")\n",
    "plt.show()\n",
    "\n",
    "# remove 'deviceType' column for now (take care of this later)\n",
    "tr_data_m = tr_data_m.drop(columns=\"deviceType\")"
   ]
  },
  {
   "cell_type": "markdown",
   "metadata": {},
   "source": [
    "Now let's look how the data looks like after the feature modifications."
   ]
  },
  {
   "cell_type": "code",
   "execution_count": null,
   "metadata": {},
   "outputs": [],
   "source": [
    "#tr_data_m = tr_data_m.drop(columns=\"index\")\n",
    "with pd.option_context('display.max_rows', 5, 'display.max_columns', None, 'display.width', 100):\n",
    "    print(tr_data_m.head())\n",
    "tr_data_m"
   ]
  },
  {
   "cell_type": "markdown",
   "metadata": {},
   "source": [
    "And finally, save the data as a csv file. I also need to save the dictionaries and other variable necessary for feature transformation (as I need to do the same on the test data)."
   ]
  },
  {
   "cell_type": "code",
   "execution_count": null,
   "metadata": {},
   "outputs": [],
   "source": [
    "# save the modified dataframe for future use\n",
    "#tr_data_m.to_csv(r'tr_data_m.csv', index = None)"
   ]
  },
  {
   "cell_type": "markdown",
   "metadata": {},
   "source": [
    "## The Method\n",
    "\n",
    "<a id='TL;DR'></a>\n",
    "<div class=\" alert alert-warning\">\n",
    "    <b>tl;dr.</b> \n",
    "\n",
    "  <li> The data is extremely unbalanced, methods with high flexibility may overfit and simpler methods will classify most points to no install class. </li>\n",
    "  <li> I use under-sampling of the no install class as a quick solution to the problem. There are better (more expensive) ways to handle this but given my time this is fine. </li>\n",
    "  <li> I only consider two baseline like methods in the assignment: decision tree and logistic regression. I could investigate more powerful methods but my time is limited (and I also believe that spending more time on feature engineering and extracting more features (as explained in the previous section) would probably be more fruitful.</li>\n",
    "  <li> After balancing, I use 5-fold corss validation for evaluation of each method and then juts divide the training data to 2 to investigate the outputs.</li>\n",
    "  <li> I use ROC and confusion matrix as the performance measure criteria</li>\n",
    "  <li> Discussions about the results and modelling decisions are provided.</li>\n",
    "  \n",
    "</div>\n",
    " "
   ]
  },
  {
   "cell_type": "markdown",
   "metadata": {},
   "source": [
    "Following code box reads the modified training data from the CSV file and remove the \"index\" and label (\"install\") columns from the data. "
   ]
  },
  {
   "cell_type": "code",
   "execution_count": null,
   "metadata": {},
   "outputs": [],
   "source": [
    "# Load the modified training data\n",
    "tr_filename = \"tr_data_m.csv\"\n",
    "tr_data_m = pd.read_csv(tr_filename)\n",
    "tr_data_m = tr_data_m.drop(columns=\"index\")\n",
    "Y = tr_data_m['install']\n",
    "tr_data_m = tr_data_m.drop(columns=\"install\")"
   ]
  },
  {
   "cell_type": "code",
   "execution_count": null,
   "metadata": {},
   "outputs": [],
   "source": [
    "# Print some basic statistics\n",
    "print(tr_data_m.info())\n",
    "print(\"number of data in class 1: {}\".format(sum(Y==1)))\n",
    "print(\"number of data in class 0: {}\".format(sum(Y==0)))\n",
    "tr_data_m"
   ]
  },
  {
   "cell_type": "markdown",
   "metadata": {},
   "source": [
    "###  Data standardization and balancing:              \n",
    "\n",
    "To standardize or not to standardize? I decided to do so as the scales are quite different in different columns. However, it would make sense to also run the methods without standardization. The following code standardizes the data and saves them in data frame X. \n",
    "\n",
    "**Note**: The normalization should be done inside the CV folds on the training data only. However, here I do it once for both training and validation data, which is wrong but not drastically wrong given the data size that we have."
   ]
  },
  {
   "cell_type": "code",
   "execution_count": null,
   "metadata": {
    "scrolled": true
   },
   "outputs": [],
   "source": [
    "# the following code normalizes the data (zero mean, unit std)\n",
    "from sklearn import preprocessing\n",
    "# Get column names first\n",
    "names = tr_data_m.columns\n",
    "# Create the Scaler object\n",
    "scaler = preprocessing.StandardScaler()\n",
    "# Fit your data on the scaler object\n",
    "scaler.fit(data)\n",
    "X = scaler.transform(data)\n",
    "X = pd.DataFrame(X, columns=names)\n",
    "\n",
    "X"
   ]
  },
  {
   "cell_type": "markdown",
   "metadata": {},
   "source": [
    "The following box performs under-sampling to take care of the unbalanceness of the data. This can be quite harmful as we are losing information by throwing the data from class 0 out. However, fow now I prefer to go with this quick solution for unbalanceness. \n",
    "\n",
    "* Ideally this should have been done in the cross validation loop but I will do it only once at the beginning.\n",
    "* For now I am just using random undersampling. A better approach would be to cluster the data in class 0 and then use the prototypes as the representations of the class. This would be a bit expensive computationally (as k-means is expensive if there are many data), but doable (codes for this are commented bellow). See https://imbalanced-learn.readthedocs.io/en/stable/under_sampling.html for more information."
   ]
  },
  {
   "cell_type": "code",
   "execution_count": 121,
   "metadata": {},
   "outputs": [
    {
     "name": "stdout",
     "output_type": "stream",
     "text": [
      "[(0, 26496), (1, 26496)]\n"
     ]
    }
   ],
   "source": [
    "from collections import Counter\n",
    "from sklearn.datasets import make_classification\n",
    "from imblearn.under_sampling import ClusterCentroids\n",
    "\n",
    "# ClusterCentroids makes use of K-means to reduce the number of samples. \n",
    "#Therefore, each class will be synthesized with the centroids of the K-means method instead of the original samples\n",
    "#print(sorted(Counter(Y).items()))\n",
    "#cc = ClusterCentroids(random_state=0)\n",
    "#X_resampled, Y_resampled = cc.fit_resample(X, Y)\n",
    "#print(sorted(Counter(Y_resampled).items()))\n",
    "\n",
    "# random undersampling\n",
    "from imblearn.under_sampling import RandomUnderSampler\n",
    "rus = RandomUnderSampler(random_state=0)\n",
    "X_resampled, Y_resampled = rus.fit_resample(X, Y)\n",
    "X_resampled = pd.DataFrame(X_resampled, columns=names)\n",
    "print(sorted(Counter(Y_resampled).items()))"
   ]
  },
  {
   "cell_type": "markdown",
   "metadata": {},
   "source": [
    "###  Regularized logistic regression on balanced data:              \n",
    "* Let's start with regularized (l2) logistic regression as a simple baseline on the balanced dataset and look at the cross validation performance."
   ]
  },
  {
   "cell_type": "code",
   "execution_count": 122,
   "metadata": {},
   "outputs": [
    {
     "name": "stdout",
     "output_type": "stream",
     "text": [
      "[0.61574012 0.65189213 0.60842385 0.63913734 0.66559331 0.62946899\n",
      " 0.65623765 0.63272208 0.65068522 0.63493906]\n"
     ]
    }
   ],
   "source": [
    "from sklearn.linear_model import LogisticRegression\n",
    "from sklearn.model_selection import cross_val_score\n",
    "from sklearn.metrics import confusion_matrix\n",
    "\n",
    "logreg = LogisticRegression(solver='lbfgs')\n",
    "\n",
    "roc_auc_scores = cross_val_score(logreg, X_resampled, Y_resampled, scoring = 'roc_auc', cv=10)\n",
    "print(roc_auc_scores)    "
   ]
  },
  {
   "cell_type": "markdown",
   "metadata": {},
   "source": [
    "It seems that the cross validation ROC scores are very close. The following plots the ROC Curve after dividing the data in two equal-size random sets."
   ]
  },
  {
   "cell_type": "code",
   "execution_count": 123,
   "metadata": {},
   "outputs": [
    {
     "data": {
      "image/png": "[encoded data removed]",
      "text/plain": [
       "<Figure size 432x288 with 1 Axes>"
      ]
     },
     "metadata": {},
     "output_type": "display_data"
    }
   ],
   "source": [
    "from sklearn.metrics import roc_auc_score\n",
    "from sklearn.metrics import roc_curve\n",
    "from sklearn.model_selection import train_test_split\n",
    "\n",
    "X_train, X_val, Y_train, Y_val = train_test_split(X_resampled, Y_resampled, test_size=0.5)\n",
    "\n",
    "logreg.fit(X_train, Y_train)\n",
    "y_pred_lr = logreg.predict(X_val)\n",
    "\n",
    "logit_roc_auc = roc_auc_score(Y_val, y_pred_lr)\n",
    "fpr, tpr, thresholds = roc_curve(Y_val, logreg.predict_proba(X_val)[:,1])\n",
    "plt.figure()\n",
    "plt.plot(fpr, tpr, label='Logistic Regression (area = %0.2f)' % logit_roc_auc)\n",
    "plt.plot([0, 1], [0, 1],'r--')\n",
    "plt.xlim([0.0, 1.0])\n",
    "plt.ylim([0.0, 1.05])\n",
    "plt.xlabel('False Positive Rate')\n",
    "plt.ylabel('True Positive Rate')\n",
    "plt.title('Receiver operating characteristic for logistic regression')\n",
    "plt.legend(loc=\"lower right\")\n",
    "plt.savefig('Log_ROC')\n",
    "plt.show()"
   ]
  },
  {
   "cell_type": "markdown",
   "metadata": {},
   "source": [
    "The following function is used to plot the confusion matrix."
   ]
  },
  {
   "cell_type": "code",
   "execution_count": 124,
   "metadata": {},
   "outputs": [],
   "source": [
    "# This function is used to plot the confusion matrix and normalized confusion matrix\n",
    "# copied from: https://scikit-learn.org/stable/auto_examples/model_selection/plot_confusion_matrix.html\n",
    "# reference: API design for machine learning software: experiences from the scikit-learn project, Buitinck et al., 2013.\n",
    "def plot_confusion_matrix(y_true, y_pred, classes,\n",
    "                          normalize=False,\n",
    "                          title=None,\n",
    "                          cmap=plt.cm.Blues):\n",
    "    \"\"\"\n",
    "    This function prints and plots the confusion matrix.\n",
    "    Normalization can be applied by setting `normalize=True`.\n",
    "    \"\"\"\n",
    "    if not title:\n",
    "        if normalize:\n",
    "            title = 'Normalized confusion matrix'\n",
    "        else:\n",
    "            title = 'Confusion matrix, without normalization'\n",
    "\n",
    "    # Compute confusion matrix\n",
    "    cm = confusion_matrix(y_true, y_pred)\n",
    "    if normalize:\n",
    "        cm = cm.astype('float') / cm.sum(axis=1)[:, np.newaxis]\n",
    "        print(\"Normalized confusion matrix\")\n",
    "    else:\n",
    "        print('Confusion matrix, without normalization')\n",
    "\n",
    "    print(cm)\n",
    "\n",
    "    fig, ax = plt.subplots()\n",
    "    im = ax.imshow(cm, interpolation='nearest', cmap=cmap)\n",
    "    ax.figure.colorbar(im, ax=ax)\n",
    "    # We want to show all ticks...\n",
    "    ax.set(xticks=np.arange(cm.shape[1]),\n",
    "           yticks=np.arange(cm.shape[0]),\n",
    "           # ... and label them with the respective list entries\n",
    "           xticklabels=classes, yticklabels=classes,\n",
    "           title=title,\n",
    "           ylabel='True label',\n",
    "           xlabel='Predicted label')\n",
    "\n",
    "    # Rotate the tick labels and set their alignment.\n",
    "    plt.setp(ax.get_xticklabels(), rotation=45, ha=\"right\",\n",
    "             rotation_mode=\"anchor\")\n",
    "\n",
    "    # Loop over data dimensions and create text annotations.\n",
    "    fmt = '.2f' if normalize else 'd'\n",
    "    thresh = cm.max() / 2.\n",
    "    for i in range(cm.shape[0]):\n",
    "        for j in range(cm.shape[1]):\n",
    "            ax.text(j, i, format(cm[i, j], fmt),\n",
    "                    ha=\"center\", va=\"center\",\n",
    "                    color=\"white\" if cm[i, j] > thresh else \"black\")\n",
    "    fig.tight_layout()\n",
    "    return ax"
   ]
  },
  {
   "cell_type": "markdown",
   "metadata": {},
   "source": [
    "Let's look at the confusion matrix for the validation data. "
   ]
  },
  {
   "cell_type": "code",
   "execution_count": 125,
   "metadata": {},
   "outputs": [
    {
     "name": "stdout",
     "output_type": "stream",
     "text": [
      "Confusion matrix, without normalization\n",
      "[[7419 5894]\n",
      " [4367 8816]]\n",
      "Normalized confusion matrix\n",
      "[[0.55727484 0.44272516]\n",
      " [0.33125996 0.66874004]]\n"
     ]
    },
    {
     "data": {
      "image/png": "[encoded data removed]",
      "text/plain": [
       "<Figure size 432x288 with 2 Axes>"
      ]
     },
     "metadata": {},
     "output_type": "display_data"
    },
    {
     "data": {
      "image/png": "[encoded data removed]",
      "text/plain": [
       "<Figure size 432x288 with 2 Axes>"
      ]
     },
     "metadata": {},
     "output_type": "display_data"
    }
   ],
   "source": [
    "# Plot non-normalized confusion matrix\n",
    "plot_confusion_matrix(Y_val, y_pred_lr, classes=['0','1'],\n",
    "                      title='Confusion matrix, without normalization')\n",
    "\n",
    "# Plot normalized confusion matrix\n",
    "plot_confusion_matrix(Y_val, y_pred_lr, classes=['0','1'], normalize=True,\n",
    "                      title='Normalized confusion matrix')\n",
    "\n",
    "plt.show()"
   ]
  },
  {
   "cell_type": "markdown",
   "metadata": {},
   "source": [
    "Now let's train the model on all training data and look at the contribution of each coefficient."
   ]
  },
  {
   "cell_type": "code",
   "execution_count": 126,
   "metadata": {
    "scrolled": false
   },
   "outputs": [
    {
     "data": {
      "image/png": "[encoded data removed]",
      "text/plain": [
       "<Figure size 432x288 with 1 Axes>"
      ]
     },
     "metadata": {},
     "output_type": "display_data"
    }
   ],
   "source": [
    "logreg.fit(X_resampled, Y_resampled)\n",
    "# visualize the coefficients of the logistic regression\n",
    "plt.plot(X_resampled.columns,logreg.coef_[0][:], '.')\n",
    "plt.plot(X_resampled.columns,0 * logreg.coef_[0][:], '--')\n",
    "plt.title(\"Coefficients of the logistic regression\")\n",
    "plt.xticks(rotation=90)\n",
    "plt.xlabel(\"feature name\")\n",
    "plt.ylabel(\"coefficient value\")\n",
    "plt.show()"
   ]
  },
  {
   "cell_type": "markdown",
   "metadata": {},
   "source": [
    "* Unsurprisingly, the coefficient corresponding to 'installCount' has the highest positive value. \n",
    "* Other contributions are also sensible, given how we simplified the features in the previous section.\n",
    "* If there was time, I would go back to the previous section and try to perform a more proper representation for campainId and gameId as it seems that those two features are not contributing much. An alternative direction forward would be to use non linear methods (and feature transformations)."
   ]
  },
  {
   "cell_type": "markdown",
   "metadata": {},
   "source": [
    "###  Decision tree on balanced data:    \n",
    "* Let's run decision tree"
   ]
  },
  {
   "cell_type": "code",
   "execution_count": 127,
   "metadata": {
    "scrolled": false
   },
   "outputs": [
    {
     "name": "stdout",
     "output_type": "stream",
     "text": [
      "[[0.56688679 0.56321948 0.57256086 0.54849972 0.56067182]\n",
      " [0.58440733 0.50287814 0.60439769 0.58816865 0.59774856]\n",
      " [0.61873054 0.52542771 0.63283385 0.61913728 0.62644164]\n",
      " [0.62973717 0.52881554 0.64350176 0.60779847 0.62751018]\n",
      " [0.63985217 0.53667493 0.6471184  0.62040823 0.63338906]\n",
      " [0.64987213 0.5396606  0.65138058 0.61163335 0.6383737 ]\n",
      " [0.63880538 0.55517586 0.63571253 0.61710964 0.64192124]\n",
      " [0.63110936 0.55378026 0.60527431 0.6194076  0.64023438]\n",
      " [0.61697186 0.5303515  0.60053375 0.61711502 0.6335682 ]\n",
      " [0.57450999 0.50470453 0.58666034 0.6111541  0.62356444]\n",
      " [0.55029302 0.48398039 0.56747767 0.59257381 0.62082747]\n",
      " [0.54228432 0.48161497 0.56475339 0.58325206 0.60966025]\n",
      " [0.52617353 0.47786741 0.55147004 0.57448417 0.60336827]\n",
      " [0.51590288 0.47007798 0.54333686 0.56673508 0.58903169]\n",
      " [0.5073367  0.4608219  0.53882353 0.55458756 0.58435719]\n",
      " [0.50052483 0.45419552 0.53252414 0.55029413 0.58015629]\n",
      " [0.49757666 0.45756174 0.52936307 0.54400619 0.57102438]\n",
      " [0.49603357 0.45946968 0.52725078 0.53896698 0.56537123]\n",
      " [0.49038533 0.4576783  0.52644843 0.53543464 0.55455743]\n",
      " [0.49422636 0.4569809  0.52447723 0.53483285 0.55429028]\n",
      " [0.49361401 0.46438843 0.52306078 0.52907249 0.55318078]\n",
      " [0.49753361 0.46359066 0.52089484 0.53522151 0.54625889]\n",
      " [0.49484578 0.4687132  0.51836567 0.52756898 0.54105271]\n",
      " [0.49520965 0.46647373 0.52312781 0.53009624 0.54354046]\n",
      " [0.49662519 0.47204962 0.51790713 0.52720601 0.54647494]\n",
      " [0.4963146  0.47114465 0.5207524  0.53084028 0.5434179 ]\n",
      " [0.49488904 0.47121162 0.52313815 0.53146574 0.54265075]\n",
      " [0.49509945 0.47155771 0.51783338 0.52843472 0.54186175]\n",
      " [0.49936816 0.46940957 0.51871783 0.5273089  0.54089667]\n",
      " [0.49324676 0.47202679 0.51648564 0.53165714 0.5409529 ]]\n",
      "best result for depth: 6\n"
     ]
    },
    {
     "data": {
      "image/png": "[encoded data removed]",
      "text/plain": [
       "<Figure size 432x288 with 1 Axes>"
      ]
     },
     "metadata": {},
     "output_type": "display_data"
    }
   ],
   "source": [
    "from sklearn.tree import DecisionTreeClassifier\n",
    "\n",
    "max_depth = 30\n",
    "# try different depths and save the CV results a\n",
    "roc_scores = np.zeros([max_depth, 5]) \n",
    "for depth in range(1,max_depth+1):\n",
    "    dt = DecisionTreeClassifier(max_depth=depth)\n",
    "    roc_scores[depth-1,:] = cross_val_score(dt, X_resampled, Y_resampled, scoring = 'roc_auc', cv=5)\n",
    "\n",
    "print(roc_scores)   \n",
    "mean_roc = np.mean(roc_scores,1)\n",
    "best_depth = np.argmax(mean_roc)+1\n",
    "print(\"best result for depth: {}\".format(best_depth))\n",
    "plt.plot(range(1,len(roc_scores)+1),mean_roc,'.')\n",
    "plt.title(\"Average 5-fold CV error (ROC)\")\n",
    "plt.xlabel(\"decision tree max depth\")\n",
    "plt.ylabel(\"average ROC score\")\n",
    "plt.show()   "
   ]
  },
  {
   "cell_type": "markdown",
   "metadata": {},
   "source": [
    "Based on the above results, it seems that depth = 6 or 7 are reasonable choices. In the next block we use the training and validation data from the previous section to visualize the ROC curve and confusion matrix for the decision tree method."
   ]
  },
  {
   "cell_type": "code",
   "execution_count": 128,
   "metadata": {},
   "outputs": [
    {
     "name": "stdout",
     "output_type": "stream",
     "text": [
      "Confusion matrix, without normalization\n",
      "[[8369 4944]\n",
      " [5165 8018]]\n",
      "Normalized confusion matrix\n",
      "[[0.62863367 0.37136633]\n",
      " [0.39179246 0.60820754]]\n"
     ]
    },
    {
     "data": {
      "image/png": "[encoded data removed]",
      "text/plain": [
       "<Figure size 432x288 with 1 Axes>"
      ]
     },
     "metadata": {},
     "output_type": "display_data"
    },
    {
     "data": {
      "image/png": "[encoded data removed]",
      "text/plain": [
       "<Figure size 432x288 with 2 Axes>"
      ]
     },
     "metadata": {},
     "output_type": "display_data"
    },
    {
     "data": {
      "image/png": "[encoded data removed]",
      "text/plain": [
       "<Figure size 432x288 with 2 Axes>"
      ]
     },
     "metadata": {},
     "output_type": "display_data"
    }
   ],
   "source": [
    "dt = DecisionTreeClassifier(max_depth=7)\n",
    "dt.fit(X_train, Y_train)\n",
    "y_pred_dt = dt.predict(X_val)\n",
    "\n",
    "dt_roc_auc = roc_auc_score(Y_val, y_pred_dt)\n",
    "fpr, tpr, thresholds = roc_curve(Y_val, dt.predict_proba(X_val)[:,1])\n",
    "plt.figure()\n",
    "plt.plot(fpr, tpr, label='Decision Tree (area = %0.2f)' % dt_roc_auc)\n",
    "plt.plot([0, 1], [0, 1],'r--')\n",
    "plt.xlim([0.0, 1.0])\n",
    "plt.ylim([0.0, 1.05])\n",
    "plt.xlabel('False Positive Rate')\n",
    "plt.ylabel('True Positive Rate')\n",
    "plt.title('Receiver operating characteristic for decision tree')\n",
    "plt.legend(loc=\"lower right\")\n",
    "plt.savefig('Log_ROC')\n",
    "\n",
    "# Plot non-normalized confusion matrix\n",
    "plot_confusion_matrix(Y_val, y_pred_dt, classes=['0','1'],\n",
    "                      title='Confusion matrix, without normalization')\n",
    "\n",
    "# Plot normalized confusion matrix\n",
    "plot_confusion_matrix(Y_val, y_pred_dt, classes=['0','1'], normalize=True,\n",
    "                      title='Normalized confusion matrix')\n",
    "\n",
    "plt.show()"
   ]
  },
  {
   "cell_type": "markdown",
   "metadata": {},
   "source": [
    "## Test data prediction\n",
    "Given the above validation results, we will use the decision tree for the test data instal probability prediction. \n",
    "* Please note that we could have used more advanced methods (such as random forest or supervised deep learning methods) to learn a better feature representation and mapping for this task, However, for this assighnemnt I am fine with the current report given my personal time.\n",
    "\n",
    "Let's load the test data and also look at the number of nulls)."
   ]
  },
  {
   "cell_type": "code",
   "execution_count": 141,
   "metadata": {},
   "outputs": [
    {
     "name": "stdout",
     "output_type": "stream",
     "text": [
      "<class 'pandas.core.frame.DataFrame'>\n",
      "RangeIndex: 3740134 entries, 0 to 3740133\n",
      "Data columns (total 16 columns):\n",
      "id                 object\n",
      "timestamp          object\n",
      "campaignId         object\n",
      "platform           object\n",
      "softwareVersion    object\n",
      "sourceGameId       int64\n",
      "country            object\n",
      "startCount         int64\n",
      "viewCount          int64\n",
      "clickCount         int64\n",
      "installCount       int64\n",
      "lastStart          object\n",
      "startCount1d       int64\n",
      "startCount7d       int64\n",
      "connectionType     object\n",
      "deviceType         object\n",
      "dtypes: int64(7), object(9)\n",
      "memory usage: 456.6+ MB\n",
      "None\n"
     ]
    }
   ],
   "source": [
    "import csv\n",
    "test_filename = \"test_data.csv\"\n",
    "# load the whole test data (no need to chunk it!)\n",
    "test_data = pd.read_csv(test_filename, sep=';',engine='python', quoting=csv.QUOTE_NONE)\n",
    "# print basic statistics about the data\n",
    "print(test_data.info())"
   ]
  },
  {
   "cell_type": "code",
   "execution_count": 142,
   "metadata": {},
   "outputs": [
    {
     "name": "stdout",
     "output_type": "stream",
     "text": [
      "Number of nulls per feature:\n",
      "id                      0\n",
      "timestamp               0\n",
      "campaignId              0\n",
      "platform                0\n",
      "softwareVersion         0\n",
      "sourceGameId            0\n",
      "country               281\n",
      "startCount              0\n",
      "viewCount               0\n",
      "clickCount              0\n",
      "installCount            0\n",
      "lastStart          275262\n",
      "startCount1d            0\n",
      "startCount7d            0\n",
      "connectionType          0\n",
      "deviceType              2\n",
      "dtype: int64\n",
      "                         id                      timestamp                campaignId platform  \\\n",
      "0  5c458a1e2fba59f69f8edd83  2019-01-21T09:00:14.357+00:00  58acf10efab39d013ad89c49      ios   \n",
      "1  5c3af59dd750973fefae73e2  2019-01-13T08:23:57.039+00:00  58acf10efab39d013ad89c49      ios   \n",
      "2  5c414bd0f8673f5fd3e5b122  2019-01-18T03:45:20.175+00:00  58acf10efab39d013ad89c49      ios   \n",
      "3  5c360cb1f782910750c7376c  2019-01-09T15:01:05.852+00:00  58acf10efab39d013ad89c49      ios   \n",
      "4  5c42a31dfa3f9065d6d3eba3  2019-01-19T04:10:05.419+00:00  58acf10efab39d013ad89c49      ios   \n",
      "\n",
      "  softwareVersion  sourceGameId country  startCount  viewCount  clickCount  installCount  \\\n",
      "0          11.2.6       2977193      CN          32          9           5             5   \n",
      "1           9.3.5       1484791      CN         104         84           5             0   \n",
      "2           8.1.1       1772805      CN          93         81          16             2   \n",
      "3            12.1       1298799      CN          13          8           6             0   \n",
      "4            11.3       1148369      CN           4          3           0             0   \n",
      "\n",
      "                       lastStart  startCount1d  startCount7d connectionType deviceType  \n",
      "0  2019-01-21T08:59:34.356+00:00            32            32           wifi    iPad4,1  \n",
      "1  2019-01-13T07:17:59.888+00:00            12            93           wifi    iPad3,3  \n",
      "2  2019-01-18T03:41:24.122+00:00            45            92           wifi    iPad4,1  \n",
      "3  2019-01-09T15:01:04.239+00:00             4             5           wifi    iPad4,4  \n",
      "4  2019-01-19T04:09:32.142+00:00             4             4           wifi    iPad5,1  \n"
     ]
    }
   ],
   "source": [
    "print(\"Number of nulls per feature:\")\n",
    "print(test_data.isnull().sum())\n",
    "with pd.option_context('display.max_rows', 5, 'display.max_columns', None, 'display.width', 100):\n",
    "    print(test_data.head())"
   ]
  },
  {
   "cell_type": "markdown",
   "metadata": {},
   "source": [
    "We need to perform the same operations done on training data on the test data. However, we need to use statistics, and dictionaries that were learned from the training data. I would have ideally implemented those as functions and here would just call them again (but did not do that here). The following is the preprocessing steps:"
   ]
  },
  {
   "cell_type": "code",
   "execution_count": 143,
   "metadata": {},
   "outputs": [
    {
     "name": "stderr",
     "output_type": "stream",
     "text": [
      "C:\\Users\\Pedram\\Anaconda3\\lib\\site-packages\\pandas\\core\\indexing.py:189: SettingWithCopyWarning: \n",
      "A value is trying to be set on a copy of a slice from a DataFrame\n",
      "\n",
      "See the caveats in the documentation: http://pandas.pydata.org/pandas-docs/stable/indexing.html#indexing-view-versus-copy\n",
      "  self._setitem_with_indexer(indexer, value)\n"
     ]
    },
    {
     "ename": "NameError",
     "evalue": "name 'campainId_dict' is not defined",
     "output_type": "error",
     "traceback": [
      "\u001b[1;31m---------------------------------------------------------------------------\u001b[0m",
      "\u001b[1;31mNameError\u001b[0m                                 Traceback (most recent call last)",
      "\u001b[1;32m<ipython-input-143-16abf85e3412>\u001b[0m in \u001b[0;36m<module>\u001b[1;34m()\u001b[0m\n\u001b[0;32m     17\u001b[0m \u001b[0mcampain_freq\u001b[0m \u001b[1;33m=\u001b[0m \u001b[0mnp\u001b[0m\u001b[1;33m.\u001b[0m\u001b[0mzeros\u001b[0m\u001b[1;33m(\u001b[0m\u001b[0mtest_data\u001b[0m\u001b[1;33m.\u001b[0m\u001b[0mshape\u001b[0m\u001b[1;33m[\u001b[0m\u001b[1;36m0\u001b[0m\u001b[1;33m]\u001b[0m\u001b[1;33m)\u001b[0m\u001b[1;33m\u001b[0m\u001b[0m\n\u001b[0;32m     18\u001b[0m \u001b[1;32mfor\u001b[0m \u001b[0mi\u001b[0m \u001b[1;32min\u001b[0m \u001b[0mrange\u001b[0m\u001b[1;33m(\u001b[0m\u001b[0mtest_data\u001b[0m\u001b[1;33m.\u001b[0m\u001b[0mshape\u001b[0m\u001b[1;33m[\u001b[0m\u001b[1;36m0\u001b[0m\u001b[1;33m]\u001b[0m\u001b[1;33m)\u001b[0m\u001b[1;33m:\u001b[0m\u001b[1;33m\u001b[0m\u001b[0m\n\u001b[1;32m---> 19\u001b[1;33m     \u001b[1;32mif\u001b[0m \u001b[0mtest_data\u001b[0m\u001b[1;33m[\u001b[0m\u001b[1;34m'campaignId'\u001b[0m\u001b[1;33m]\u001b[0m\u001b[1;33m[\u001b[0m\u001b[0mi\u001b[0m\u001b[1;33m]\u001b[0m \u001b[1;32min\u001b[0m \u001b[0mcampainId_dict\u001b[0m\u001b[1;33m.\u001b[0m\u001b[0mkeys\u001b[0m\u001b[1;33m(\u001b[0m\u001b[1;33m)\u001b[0m\u001b[1;33m:\u001b[0m\u001b[1;33m\u001b[0m\u001b[0m\n\u001b[0m\u001b[0;32m     20\u001b[0m         \u001b[0mcampain_freq\u001b[0m\u001b[1;33m[\u001b[0m\u001b[0mi\u001b[0m\u001b[1;33m]\u001b[0m \u001b[1;33m=\u001b[0m \u001b[0mcampainId_dict\u001b[0m\u001b[1;33m[\u001b[0m\u001b[0mtest_data\u001b[0m\u001b[1;33m[\u001b[0m\u001b[1;34m'campaignId'\u001b[0m\u001b[1;33m]\u001b[0m\u001b[1;33m[\u001b[0m\u001b[0mi\u001b[0m\u001b[1;33m]\u001b[0m\u001b[1;33m]\u001b[0m\u001b[1;33m\u001b[0m\u001b[0m\n\u001b[0;32m     21\u001b[0m     \u001b[1;32melse\u001b[0m\u001b[1;33m:\u001b[0m\u001b[1;33m\u001b[0m\u001b[0m\n",
      "\u001b[1;31mNameError\u001b[0m: name 'campainId_dict' is not defined"
     ]
    }
   ],
   "source": [
    "# replace nan values in 'lastStart' with values in 'timestamp'\n",
    "nan_idx = test_data['lastStart'].isnull()\n",
    "test_data['lastStart'].loc[nan_idx] = test_data['timestamp'][nan_idx]\n",
    "\n",
    "# convert the string objects to datetime\n",
    "test_data['timestamp'] = pd.to_datetime(test_data['timestamp'],infer_datetime_format=True)\n",
    "test_data['lastStart'] = pd.to_datetime(test_data['lastStart'],infer_datetime_format=True)\n",
    "\n",
    "# convert times to epoch in minutes\n",
    "epoch_timestamp = pd.to_datetime(test_data['timestamp']).astype(np.int64) // (10**9 * 60)\n",
    "epoch_lastStart = pd.to_datetime(test_data['lastStart']).astype(np.int64) // (10**9 * 60)\n",
    "\n",
    "# create a new feature of difference in timestamp and lastStart in minutes\n",
    "test_data['epoch_diff'] = epoch_timestamp - epoch_lastStart\n",
    "\n",
    "# convert the campains to frequency, based on values learned from training data\n",
    "campain_freq = np.zeros(test_data.shape[0])\n",
    "for i in range(test_data.shape[0]):\n",
    "    if test_data['campaignId'][i] in campainId_dict.keys():\n",
    "        campain_freq[i] = campainId_dict[test_data['campaignId'][i]]\n",
    "    else:\n",
    "        campain_freq[i] = 1    \n",
    "\n",
    "# add the new feature to the data frame\n",
    "test_data.insert(1, 'campain_freq', campain_freq)\n",
    "\n",
    "# convert platform to binary values (1:ios, 0:android)\n",
    "test_data['platform'] = test_data['platform'] == 'ios' \n",
    "test_data['platform'] = test_data['platform'].astype(np.int64)\n",
    "\n",
    "# save the first number in the version string in an int array\n",
    "soft_ver_num = np.zeros(test_data.shape[0])\n",
    "for i in range(test_data.shape[0]): \n",
    "    soft_ver_num[i] = find_first_num(test_data['softwareVersion'][i])\n",
    "\n",
    "# add the new feature to the data frame\n",
    "test_data.insert(1, 'softwareVersion_num', soft_ver_num)\n",
    "\n",
    "# convert the gameId to frequency, based on values learned from training data\n",
    "gameId_freq = np.zeros(test_data.shape[0])\n",
    "for i in range(test_data.shape[0]):\n",
    "    if test_data['sourceGameId'][i] in gameId_dict.keys():\n",
    "        gameId_freq[i] = gameId_dict[test_data['sourceGameId'][i]]\n",
    "    else:\n",
    "        gameId_freq[i] = 1 \n",
    "        \n",
    "# add the new feature to the data frame\n",
    "test_data.insert(1, 'gameId_freq', gameId_freq)\n",
    "\n",
    "# convert the country to frequency, based on values learned from training data\n",
    "country_freq = np.zeros(test_data.shape[0])\n",
    "for i in range(test_data.shape[0]):\n",
    "    if test_data['country'][i] in country_dict.keys():\n",
    "        country_freq[i] = country_dict[test_data['country'][i]]\n",
    "    else:\n",
    "        country_freq[i] = 0.01 # a default number a bit smaller than the prior install probability\n",
    "\n",
    "# add the new feature to the data frame\n",
    "test_data.insert(1, 'country_ratio', country_freq)\n",
    "\n",
    "# create connectionType features\n",
    "test_data['wifi'] = test_data['connectionType'] == 'wifi' \n",
    "test_data['wifi'] = test_data['wifi'].astype(np.int64)\n",
    "test_data['cellular'] = test_data['connectionType'] == 'cellular' \n",
    "test_data['cellular'] = test_data['cellular'].astype(np.int64)"
   ]
  },
  {
   "cell_type": "markdown",
   "metadata": {},
   "source": [
    "Drop columns that were modified."
   ]
  },
  {
   "cell_type": "code",
   "execution_count": null,
   "metadata": {},
   "outputs": [],
   "source": [
    "# remove \"id\" column\n",
    "test_data = test_data.drop(columns=\"id\")\n",
    "# remove \"timestamp\" column\n",
    "test_data = test_data.drop(columns=\"timestamp\")\n",
    "test_data = test_data.drop(columns=\"lastStart\")\n",
    "# remove 'campaignId' column\n",
    "test_data = test_data.drop(columns=\"campaignId\")\n",
    "# remove 'softwareVersion' column\n",
    "test_data = test_data.drop(columns=\"softwareVersion\")\n",
    "# remove 'sourceGameId' column\n",
    "test_data = test_data.drop(columns=\"sourceGameId\")\n",
    "# remove 'country' column\n",
    "test_data = test_data.drop(columns=\"country\")\n",
    "# remove 'connectionType' column\n",
    "test_data = test_data.drop(columns=\"connectionType\")\n",
    "# remove 'deviceType' column for now (take care of this later)\n",
    "test_data = test_data.drop(columns=\"deviceType\")"
   ]
  },
  {
   "cell_type": "code",
   "execution_count": null,
   "metadata": {},
   "outputs": [],
   "source": [
    "# let's look at the test data\n",
    "with pd.option_context('display.max_rows', 5, 'display.max_columns', None, 'display.width', 100):\n",
    "    print(test_data.head())\n",
    "test_data"
   ]
  },
  {
   "cell_type": "markdown",
   "metadata": {},
   "source": [
    "Now standardization the test data based on the statistics of the training data."
   ]
  },
  {
   "cell_type": "code",
   "execution_count": null,
   "metadata": {},
   "outputs": [],
   "source": [
    "# Get column names first\n",
    "names = test_data.columns\n",
    "# Fit your data on the scaler object (trained from trainign data)\n",
    "X_test = scaler.transform(test_data)\n",
    "X_test = pd.DataFrame(X_test, columns=names)"
   ]
  },
  {
   "cell_type": "markdown",
   "metadata": {},
   "source": [
    "Let's evaluate the test data using decision tree (as it performed better in validation phase)."
   ]
  },
  {
   "cell_type": "code",
   "execution_count": null,
   "metadata": {},
   "outputs": [],
   "source": [
    "y_pred_test = dt.predict(X_test)\n",
    "Y_test_predicted_prob = dt.predict_proba(X_test)[:,1]\n",
    "\n",
    "\n",
    "##REMOVE THIS\n",
    "\n",
    "dt_roc_auc_test = roc_auc_score(Y_test, y_pred_test)\n",
    "fpr, tpr, thresholds = roc_curve(Y_test, dt.predict_proba(X_test)[:,1])\n",
    "plt.figure()\n",
    "plt.plot(fpr, tpr, label='Decision Tree (area = %0.2f)' % dt_roc_auc_test)\n",
    "plt.plot([0, 1], [0, 1],'r--')\n",
    "plt.xlim([0.0, 1.0])\n",
    "plt.ylim([0.0, 1.05])\n",
    "plt.xlabel('False Positive Rate')\n",
    "plt.ylabel('True Positive Rate')\n",
    "plt.title('Receiver operating characteristic for decision tree (TESTS DATA)')\n",
    "plt.legend(loc=\"lower right\")\n",
    "plt.savefig('Log_ROC')\n",
    "\n",
    "# Plot non-normalized confusion matrix\n",
    "plot_confusion_matrix(Y_test, y_pred_test, classes=['0','1'],\n",
    "                      title='Confusion matrix, without normalization')\n",
    "\n",
    "# Plot normalized confusion matrix\n",
    "plot_confusion_matrix(Y_test, y_pred_test, classes=['0','1'], normalize=True,\n",
    "                      title='Normalized confusion matrix')\n",
    "\n",
    "plt.show()"
   ]
  },
  {
   "cell_type": "code",
   "execution_count": null,
   "metadata": {},
   "outputs": [],
   "source": [
    "##REMOVE THIS\n",
    "\n",
    "\n",
    "y_pred_lr_test = logreg.predict(X_test)\n",
    "\n",
    "logit_roc_auc_test = roc_auc_score(Y_test, y_pred_lr_test)\n",
    "fpr, tpr, thresholds = roc_curve(Y_test, logreg.predict_proba(X_test)[:,1])\n",
    "plt.figure()\n",
    "plt.plot(fpr, tpr, label='Logistic Regression (area = %0.2f)' % logit_roc_auc_test)\n",
    "plt.plot([0, 1], [0, 1],'r--')\n",
    "plt.xlim([0.0, 1.0])\n",
    "plt.ylim([0.0, 1.05])\n",
    "plt.xlabel('False Positive Rate')\n",
    "plt.ylabel('True Positive Rate')\n",
    "plt.title('Receiver operating characteristic for logistic regression  (TESTS DATA)')\n",
    "plt.legend(loc=\"lower right\")\n",
    "plt.savefig('Log_ROC')\n",
    "\n",
    "# Plot non-normalized confusion matrix\n",
    "plot_confusion_matrix(Y_test, y_pred_lr_test, classes=['0','1'],\n",
    "                      title='Confusion matrix, without normalization')\n",
    "\n",
    "# Plot normalized confusion matrix\n",
    "plot_confusion_matrix(Y_test, y_pred_lr_test, classes=['0','1'], normalize=True,\n",
    "                      title='Normalized confusion matrix')\n",
    "\n",
    "plt.show()"
   ]
  }
 ],
 "metadata": {
  "kernelspec": {
   "display_name": "Python 3",
   "language": "python",
   "name": "python3"
  },
  "language_info": {
   "codemirror_mode": {
    "name": "ipython",
    "version": 3
   },
   "file_extension": ".py",
   "mimetype": "text/x-python",
   "name": "python",
   "nbconvert_exporter": "python",
   "pygments_lexer": "ipython3",
   "version": "3.6.5"
  }
 },
 "nbformat": 4,
 "nbformat_minor": 2
}
