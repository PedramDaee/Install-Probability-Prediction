{
 "cells": [
  {
   "cell_type": "markdown",
   "metadata": {},
   "source": [
    "# Uniti Assignment - install probability prediction\n",
    "\n",
    "Goal: Predict install probability for add install event given a set of features. \n",
    "\n",
    "## Task description\n",
    "\n",
    "The data is a sample from our production environment. Each row refers to an impression (start of a video ad belonging to the specific campaign), and includes input features and an install label indicating whether the impression resulted in the install of the advertised game or not.\n",
    "\n",
    "Input features and install label are provided for the training data (trainingData.csv). The test data (testData.csv) includes only the input features. Your task is to predict install probability for all the available impressions in the test data.\n",
    "\n",
    "Return: \n",
    "1. Predicted install probability for each impression Id in the test data.\n",
    "2. Source code for your solution. Feel free to select language/tools that you see appropriate.\n",
    "3. A report in which you explain/justify your choices and analyze your solution.\n",
    "\n",
    "Notice: There is no one single correct solution. You may also provide ideas how you would continue after your proposed solution.\n",
    "\n",
    "Field descriptions:\n",
    "\n",
    "id:                       impression id\n",
    "timestamp:                time of the event in UTC.\n",
    "campaignId:               the campaign id of the advertising campaign\n",
    "platform:                 user's platform\n",
    "softwareVersion:          software version of the device\n",
    "sourceGameId:             the game id of the publishing game\n",
    "country:                  the country of the user\n",
    "startCount:               how many times the user has ever started a campaign ever\n",
    "viewCount:                how many times the user has ever viewed a campaign ever\n",
    "clickCount:               how many times the user has ever clicked a campaign ever\n",
    "installCount:             how many times the user has installed games from this network ever\n",
    "lastStart:                the time of users last start event (any campaign)\n",
    "startCount1d:             how many times user has started (any) campaigns within the last 24h\n",
    "startCount7d:             how many times user has started (any) campaigns within the last 7 days\n",
    "connectionType:           internet connection type\n",
    "deviceType:               device model\n",
    "install:                  binary indicator whether install was observed (install=1) or was not observed (install=0) after impression\n"
   ]
  },
  {
   "cell_type": "markdown",
   "metadata": {},
   "source": [
    "## The data\n",
    "\n",
    "<a id='TL;DR'></a>\n",
    "<div class=\" alert alert-warning\">\n",
    "    <b>tl;dr.</b> \n",
    "\n",
    "  <li>The ultimate task is to recommend ads but the problem statement is not acknowledging this. Rather than modelling $p(y|x)$, where $y$ is the install event and $x$ contains the features and the action $a=$campaignId, it would be more suitable to model $p(y|x,a)$ from the data. </li>\n",
    "  <li>To create a representation for the action, we could have exploited the user interactions with the advertised ads by creating user ID vs campain ID matrix and use a function (e.g., latent factorization) of it for action representation, but the user ID is missing from the data. </li>\n",
    "  <li>User ID (history of campains recommended) is missing from the data but potentially important. I guess you have this as you compute features such as installCount.</li>\n",
    "  <li>I am removing the two time features and creating a new one experssing the difference between those two in minutes (also added suggestions for other ways to exploit the time features).</li>\n",
    "  <li></li>\n",
    "\n",
    "</div>\n",
    " "
   ]
  },
  {
   "cell_type": "markdown",
   "metadata": {},
   "source": [
    "The following block loads the training data and prints some primitive statistics. "
   ]
  },
  {
   "cell_type": "code",
   "execution_count": 1,
   "metadata": {},
   "outputs": [],
   "source": [
    "import numpy as np\n",
    "import pandas as pd\n",
    "from matplotlib import pyplot as plt"
   ]
  },
  {
   "cell_type": "code",
   "execution_count": 2,
   "metadata": {
    "scrolled": true
   },
   "outputs": [
    {
     "name": "stdout",
     "output_type": "stream",
     "text": [
      "<class 'pandas.core.frame.DataFrame'>\n",
      "RangeIndex: 2206990 entries, 0 to 2206989\n",
      "Data columns (total 17 columns):\n",
      "id                 object\n",
      "timestamp          object\n",
      "campaignId         object\n",
      "platform           object\n",
      "softwareVersion    object\n",
      "sourceGameId       int64\n",
      "country            object\n",
      "startCount         int64\n",
      "viewCount          int64\n",
      "clickCount         int64\n",
      "installCount       int64\n",
      "lastStart          object\n",
      "startCount1d       int64\n",
      "startCount7d       int64\n",
      "connectionType     object\n",
      "deviceType         object\n",
      "install            int64\n",
      "dtypes: int64(8), object(9)\n",
      "memory usage: 286.2+ MB\n",
      "None\n",
      "Number of installs: 26497,\n",
      "Percentage of installs: 0.012006,\n"
     ]
    }
   ],
   "source": [
    "tr_filename = \"training_data.csv\"\n",
    "# load the whole training data (no need to chunk it!)\n",
    "tr_data = pd.read_csv(tr_filename, sep=';')\n",
    "# print basic statistics about the data\n",
    "print(tr_data.info())\n",
    "Y = tr_data['install']\n",
    "print(\"Number of installs: {},\".format(Y.sum()))\n",
    "print(\"Percentage of installs: {:f},\".format((Y.sum()/Y.shape[0])))"
   ]
  },
  {
   "cell_type": "markdown",
   "metadata": {},
   "source": [
    "The training data contains $n=2206990$ instances with $d=16$ features and the corresponding responses $y \\in \\{0,1\\}$ indicating an install or no-install event. The data set is very unbalanced as the occurance of an install event is only $\\%1.2$.\n",
    "\n",
    "Let's print the first five rows of the dataset."
   ]
  },
  {
   "cell_type": "code",
   "execution_count": 3,
   "metadata": {
    "scrolled": true
   },
   "outputs": [
    {
     "name": "stdout",
     "output_type": "stream",
     "text": [
      "                         id                      timestamp                campaignId platform  \\\n",
      "0  5c36658fb58fad351175f0b6  2019-01-09T21:20:15.943+00:00  59687f0d896a6b0e5ce6ea15      ios   \n",
      "1  5c38d5ab1c16172870186b5a  2019-01-11T17:43:07.609+00:00  59687f0d896a6b0e5ce6ea15      ios   \n",
      "2  5c38815de8f4e50e256e4f9c  2019-01-11T11:43:25.168+00:00  59687f0d896a6b0e5ce6ea15      ios   \n",
      "3  5c409ace532d5806d2c6a5e6  2019-01-17T15:10:06.420+00:00  59687f0d896a6b0e5ce6ea15      ios   \n",
      "4  5c3904b92d798c41e7f3088a  2019-01-11T21:03:53.145+00:00  59687f0d896a6b0e5ce6ea15      ios   \n",
      "\n",
      "  softwareVersion  sourceGameId country  startCount  viewCount  clickCount  installCount  \\\n",
      "0          11.4.1       1373094      US          25         24           0             2   \n",
      "1            12.1       2739989      US          10          9           2             0   \n",
      "2          12.1.2       1373094      US          27         26           0             0   \n",
      "3          12.1.2       1217749      US          15         14           2             0   \n",
      "4          12.0.1       1373094      US          20         18           0             0   \n",
      "\n",
      "                       lastStart  startCount1d  startCount7d connectionType deviceType  install  \n",
      "0  2019-01-08T18:49:48.129+00:00             1             8       cellular  iPhone8,2        0  \n",
      "1  2019-01-09T21:20:22.855+00:00             1             4       cellular  iPhone9,1        0  \n",
      "2  2019-01-09T10:42:08.446+00:00             1             2       cellular  iPhone7,1        0  \n",
      "3  2019-01-16T19:58:11.636+00:00             3            14           wifi  iPhone7,2        0  \n",
      "4  2019-01-11T21:03:05.103+00:00            13            18       cellular  iPhone8,1        0  \n"
     ]
    }
   ],
   "source": [
    "with pd.option_context('display.max_rows', 5, 'display.max_columns', None, 'display.width', 100):\n",
    "    print(tr_data.head())"
   ]
  },
  {
   "cell_type": "markdown",
   "metadata": {},
   "source": [
    "Let's look at the null values in the data. "
   ]
  },
  {
   "cell_type": "code",
   "execution_count": 5,
   "metadata": {},
   "outputs": [
    {
     "name": "stdout",
     "output_type": "stream",
     "text": [
      "Number of nulls per feature:\n",
      "id                      0\n",
      "timestamp               0\n",
      "campaignId              0\n",
      "platform                0\n",
      "softwareVersion         0\n",
      "sourceGameId            0\n",
      "country               101\n",
      "startCount              0\n",
      "viewCount               0\n",
      "clickCount              0\n",
      "installCount            0\n",
      "lastStart          163180\n",
      "startCount1d            0\n",
      "startCount7d            0\n",
      "connectionType          0\n",
      "deviceType              0\n",
      "install                 0\n",
      "dtype: int64\n",
      "number of installs in country nulls: 1\n",
      "number of installs in lastStart nulls: 2821\n"
     ]
    }
   ],
   "source": [
    "## check for duplicated data rows --> no need. IDs are all unique\n",
    "#print(\"There are {} duplicated rows \".format(tr_data.duplicated().sum()))\n",
    "\n",
    "print(\"Number of nulls per feature:\")\n",
    "print(tr_data.isnull().sum())\n",
    "\n",
    "tr_data['country'][tr_data['country'].isnull()]\n",
    "\n",
    "print(\"number of installs in country nulls: {}\".format(Y[tr_data['country'].isnull()].sum()))\n",
    "print(\"number of installs in lastStart nulls: {}\".format(Y[tr_data['lastStart'].isnull()].sum()))"
   ]
  },
  {
   "cell_type": "markdown",
   "metadata": {},
   "source": [
    "A quick way to handle the null values is to just discard the corresponding rows from the dataset. However, lastStart feature has a huge number of nulls where 2821 of those rows have install event (around 10 percent of the total rows with install event), therefore it is better to handle them in another way. We will take care of these in the next sections where we look deeper at individual features.\n",
    "\n",
    "Let's look at the features one by one"
   ]
  },
  {
   "cell_type": "code",
   "execution_count": 6,
   "metadata": {},
   "outputs": [
    {
     "name": "stdout",
     "output_type": "stream",
     "text": [
      "id\n",
      "count                      2206990\n",
      "unique                     2206990\n",
      "top       5c3c177afbf4a0d8b92674ac\n",
      "freq                             1\n",
      "Name: id, dtype: object \n",
      "\n",
      "timestamp\n",
      "count                           2206990\n",
      "unique                          2204923\n",
      "top       2019-01-10T12:14:36.205+00:00\n",
      "freq                                  3\n",
      "Name: timestamp, dtype: object \n",
      "\n",
      "campaignId\n",
      "count                      2206990\n",
      "unique                        5704\n",
      "top       5c3bfb0b36c2c6cc18710e7b\n",
      "freq                         41740\n",
      "Name: campaignId, dtype: object \n",
      "\n",
      "platform\n",
      "count     2206990\n",
      "unique          2\n",
      "top       android\n",
      "freq      1591868\n",
      "Name: platform, dtype: object \n",
      "\n",
      "softwareVersion\n",
      "count     2206990\n",
      "unique        174\n",
      "top         8.0.0\n",
      "freq       360593\n",
      "Name: softwareVersion, dtype: object \n",
      "\n",
      "sourceGameId\n",
      "count     2206990\n",
      "unique      29969\n",
      "top       1711292\n",
      "freq        46689\n",
      "Name: sourceGameId, dtype: object \n",
      "\n",
      "country\n",
      "count     2206889\n",
      "unique        220\n",
      "top            US\n",
      "freq       359949\n",
      "Name: country, dtype: object \n",
      "\n",
      "startCount\n",
      "count    2.206990e+06\n",
      "mean     4.831307e+01\n",
      "std      9.039421e+01\n",
      "min      1.000000e+00\n",
      "25%      6.000000e+00\n",
      "50%      1.900000e+01\n",
      "75%      5.300000e+01\n",
      "max      3.997000e+03\n",
      "Name: startCount, dtype: float64 \n",
      "\n",
      "viewCount\n",
      "count    2.206990e+06\n",
      "mean     3.595887e+01\n",
      "std      7.899328e+01\n",
      "min      0.000000e+00\n",
      "25%      2.000000e+00\n",
      "50%      1.000000e+01\n",
      "75%      3.400000e+01\n",
      "max      2.886000e+03\n",
      "Name: viewCount, dtype: float64 \n",
      "\n",
      "clickCount\n",
      "count    2.206990e+06\n",
      "mean     2.099431e+00\n",
      "std      6.797011e+00\n",
      "min      0.000000e+00\n",
      "25%      0.000000e+00\n",
      "50%      0.000000e+00\n",
      "75%      2.000000e+00\n",
      "max      1.031000e+03\n",
      "Name: clickCount, dtype: float64 \n",
      "\n",
      "installCount\n",
      "count    2.206990e+06\n",
      "mean     5.703424e-01\n",
      "std      1.543641e+00\n",
      "min      0.000000e+00\n",
      "25%      0.000000e+00\n",
      "50%      0.000000e+00\n",
      "75%      1.000000e+00\n",
      "max      7.300000e+01\n",
      "Name: installCount, dtype: float64 \n",
      "\n",
      "lastStart\n",
      "count                           2043810\n",
      "unique                          2042213\n",
      "top       2019-01-12T11:11:23.060+00:00\n",
      "freq                                  2\n",
      "Name: lastStart, dtype: object \n",
      "\n",
      "startCount1d\n",
      "count    2.206990e+06\n",
      "mean     6.787689e+00\n",
      "std      1.136146e+01\n",
      "min      1.000000e+00\n",
      "25%      2.000000e+00\n",
      "50%      3.000000e+00\n",
      "75%      8.000000e+00\n",
      "max      1.466000e+03\n",
      "Name: startCount1d, dtype: float64 \n",
      "\n",
      "startCount7d\n",
      "count    2.206990e+06\n",
      "mean     1.978492e+01\n",
      "std      3.468965e+01\n",
      "min      1.000000e+00\n",
      "25%      3.000000e+00\n",
      "50%      9.000000e+00\n",
      "75%      2.300000e+01\n",
      "max      3.280000e+03\n",
      "Name: startCount7d, dtype: float64 \n",
      "\n",
      "connectionType\n",
      "count     2206990\n",
      "unique          3\n",
      "top          wifi\n",
      "freq      1497765\n",
      "Name: connectionType, dtype: object \n",
      "\n",
      "deviceType\n",
      "count       2206990\n",
      "unique        23637\n",
      "top       iPhone8,1\n",
      "freq          58565\n",
      "Name: deviceType, dtype: object \n",
      "\n",
      "install\n",
      "count    2.206990e+06\n",
      "mean     1.200594e-02\n",
      "std      1.089119e-01\n",
      "min      0.000000e+00\n",
      "25%      0.000000e+00\n",
      "50%      0.000000e+00\n",
      "75%      0.000000e+00\n",
      "max      1.000000e+00\n",
      "Name: install, dtype: float64 \n",
      "\n"
     ]
    }
   ],
   "source": [
    "for name in tr_data.columns:\n",
    "    print(name)\n",
    "    print(tr_data[name].describe(), \"\\n\")"
   ]
  },
  {
   "cell_type": "markdown",
   "metadata": {},
   "source": [
    "### *id*: \n",
    "* Indicates the impression ID. \n",
    "* All ID's are unique. \n",
    "* This feature will be discarded."
   ]
  },
  {
   "cell_type": "code",
   "execution_count": null,
   "metadata": {},
   "outputs": [],
   "source": [
    "# remove \"id\" column and save the data in a new variable\n",
    "tr_data_m = tr_data.drop(columns=\"id\")"
   ]
  },
  {
   "cell_type": "markdown",
   "metadata": {},
   "source": [
    "### *timestamp* and *lastStart*:   \n",
    "* timestamp: time of the event in UTC.\n",
    "* LastStart: the time of users last start event (any campaign) (I assume in UTC).\n",
    "* These are the two time features in the data. Potentially can be useful as:\n",
    "* 1) their interaction might have an influence on the response variable. \n",
    "* 2) user's behaviour may depend on the time of the day (e.g., people might be more likely to instal an app in the evenning or over the weekend than working hours(?)). To test this, we also need to convert the UTC time zone to a local time zone using data in the \"country\" feature and also add new features such as \"weekend\" to the data.  \n",
    "* For now I only consider the first point due to my personal time constrains. \n",
    "* In the following code box, first I will also replace the nan values in 'lastStart' with the corresponding values in 'timestamp' and then I will define a new feature ('epoch_diff') as the difference in minutes between the 'timestamp' and 'lastStart', and drop the old features. "
   ]
  },
  {
   "cell_type": "code",
   "execution_count": null,
   "metadata": {},
   "outputs": [],
   "source": [
    "# replace nan values in 'lastStart' with values in 'timestamp'\n",
    "nan_idx = tr_data['lastStart'].isnull()\n",
    "tr_data_m['lastStart'].loc[nan_idx] = tr_data_m['timestamp'][nan_idx]\n",
    "# convert the string objects to datetime\n",
    "tr_data_m['timestamp'] = pd.to_datetime(tr_data_m['timestamp'],infer_datetime_format=True)\n",
    "tr_data_m['lastStart'] = pd.to_datetime(tr_data_m['lastStart'],infer_datetime_format=True)\n",
    "\n",
    "# convert times to epoch in minutes\n",
    "epoch_timestamp = pd.to_datetime(tr_data_m['timestamp']).astype(np.int64) // (10**9 * 60)\n",
    "epoch_lastStart = pd.to_datetime(tr_data_m['lastStart']).astype(np.int64) // (10**9 * 60)\n",
    "\n",
    "# create a new feature of difference in timestamp and lastStart in minutes\n",
    "tr_data_m['epoch_diff'] = epoch_timestamp - epoch_lastStart\n",
    "\n",
    "#print(tr_data_m['timestamp'][:10])\n",
    "#print(tr_data_m['lastStart'][:10])\n",
    "#print(tr_data_m['epoch_diff'][:10])\n",
    "\n",
    "# remove \"timestamp\" column\n",
    "tr_data_m = tr_data_m.drop(columns=\"timestamp\")\n",
    "tr_data_m = tr_data_m.drop(columns=\"lastStart\")"
   ]
  },
  {
   "cell_type": "markdown",
   "metadata": {},
   "source": [
    "### *campaignId*: \n",
    "* The campaign id of the advertising campaign. \n",
    "* I guess this is all we have about the recommended ads. \n",
    "* There are 5704 unique campaigns.\n",
    "* The dataset is biased based on this feature, as I guess the campainId is selected by an intellligent algorithm.\n",
    "* The following code box looks at the distribution of campains over number of appearances and number of installs."
   ]
  },
  {
   "cell_type": "code",
   "execution_count": null,
   "metadata": {
    "scrolled": true
   },
   "outputs": [],
   "source": [
    "# compute campain frequencies\n",
    "campainId_counts = tr_data_m['campaignId'].value_counts()\n",
    "#find the number of installs for each campainId\n",
    "install_1_frame = tr_data_m[tr_data_m['install'] == 1]\n",
    "install_per_campain = np.zeros(campainId_counts.shape[0])\n",
    "for i in range(campainId_counts.shape[0]):  \n",
    "    install_per_campain[i] = sum(install_1_frame['campaignId'] == campainId_counts.index[i])\n",
    "\n",
    "# plot campain frequencies against number of installs\n",
    "plt.figure()\n",
    "plt.plot(campainId_counts,install_per_campain,'.', label='campain')\n",
    "plt.plot([0,campainId_counts[0]],[0,campainId_counts[0]*(Y.sum()/Y.shape[0])], label='average install')\n",
    "plt.legend()\n",
    "plt.title(\"campain frequency against number of installs\")\n",
    "plt.xlabel(\"campain frequency\")\n",
    "plt.ylabel(\"number of installs\")\n",
    "\n",
    "# plot install ratio for frequent campains\n",
    "#install_ratio = install_per_campain/campainId_counts\n",
    "#plt.figure()\n",
    "#plt.plot(range(1000),100*install_ratio[:1000],'.')\n",
    "#plt.title(\"Install ratio of popular campains (more than {} appearance)\".format(campainId_counts[100]))\n",
    "#plt.xlabel(\"frequent campains (sorted)\")\n",
    "#plt.ylabel(\"install ratio\")\n",
    "\n",
    "plt.show()\n",
    "\n",
    "#print(campainId_counts)\n",
    "#print(install_per_campain)\n",
    "#print(install_ratio)"
   ]
  },
  {
   "cell_type": "markdown",
   "metadata": {},
   "source": [
    "* There figure shows three things: 1) the expected correlation between number of installs and number of recommendation of the campains 2) huge number of campains have only been recommended very few times 3) A bit concerning point that there are a few extremely frequent recommended campains that have lower than average install ratio, while some better than average campains that are not recommended that frequently. (just a visualization, no big conclusion here).\n",
    "* We need to find a good representation for campains (see next box)"
   ]
  },
  {
   "cell_type": "markdown",
   "metadata": {},
   "source": [
    "<a id='What I would have done..'></a>\n",
    "<div class=\" alert alert-warning\">\n",
    "    <b>What I would have done...</b> \n",
    "\n",
    "<br />\n",
    "It would be crucially important for the core reommendation task to have a feature representation for campains. Unfortunately, it seems that Unity does not have these information. I can think of two ways to do this: (i) try to generate features from the campain itself (e.g., from the textual description of the campain or the video).(ii) generate features for campain based on the interaction data (e.g., if two users installed a couple of similiar campains, then the information about one user can be generalized to the other one for the recommendation). It seems that approach (i) has not been successful. However, it should be possible to exploit the interaction data in (ii). For this, I would need to have a unique user ID to be able to create the sparse matrix of campaignId vs. user_id, where the elements indicate install or no-install event. I could then use matrix factorization and try to estimate this big matrix with two simpler matrix (e.g., AV), and learn these simpler (low dimensional) matrices by minimizing the reconstruction error. I would then be able to use rows of A as a feature representation for campains.   \n",
    "</div>"
   ]
  },
  {
   "cell_type": "markdown",
   "metadata": {},
   "source": [
    "* As for now, I just represent each campain with its frequency. Please note that this is not a good (or stable) approach since as the designer of the recommender system, we are also controlling the frequency of campain observations. Anyway, this would be fine for now (but not that smart). Next code block creates this new feature."
   ]
  },
  {
   "cell_type": "code",
   "execution_count": null,
   "metadata": {
    "scrolled": true
   },
   "outputs": [],
   "source": [
    "# first conver the campainId_counts to a dict\n",
    "campainId_dict = campainId_counts.to_dict()\n",
    "\n",
    "campain_freq = np.zeros(tr_data_m.shape[0])\n",
    "for i in range(tr_data_m.shape[0]):\n",
    "    campain_freq[i] = campainId_dict[tr_data_m['campaignId'][i]]\n",
    "\n",
    "# add the new feature to the data frame\n",
    "tr_data_m.insert(1, 'campain_freq', campain_freq)\n",
    "\n",
    "# remove 'campaignId' column\n",
    "tr_data_m = tr_data_m.drop(columns=\"campaignId\")"
   ]
  },
  {
   "cell_type": "markdown",
   "metadata": {},
   "source": [
    "### *platform*: \n",
    "* User's platform (two options: android and ios)\n",
    "* The following box convert this to binary feature."
   ]
  },
  {
   "cell_type": "code",
   "execution_count": null,
   "metadata": {},
   "outputs": [],
   "source": [
    "# convert platform to binary values (1:ios, 0:android)\n",
    "print(tr_data_m['platform'].value_counts())\n",
    "tr_data_m['platform'] = tr_data_m['platform'] == 'ios' \n",
    "tr_data_m['platform'] = tr_data_m['platform'].astype(np.int64)"
   ]
  },
  {
   "cell_type": "markdown",
   "metadata": {},
   "source": [
    "### *softwareVersion*: \n",
    "* Software version of the device.\n",
    "* There are 174 different software versions. \n",
    "* It is reasonable to assume that there exists a correlation between the install of an ad and the software version. \n",
    "* To simplify this feature, we extract the first number in the 'softwareVersion' string and consider it as the representative of the software version. The following code block builds this new feature 'softwareVersion_num' and drops 'softwareVersion' column."
   ]
  },
  {
   "cell_type": "code",
   "execution_count": null,
   "metadata": {},
   "outputs": [],
   "source": [
    "# the following simple function finds the first number in an string\n",
    "def find_first_num(input_str):\n",
    "    for i, c in enumerate(input_str):\n",
    "        if c.isdigit():\n",
    "            start = i\n",
    "            while i < len(input_str) and input_str[i].isdigit():\n",
    "                i += 1\n",
    "            #print('Integer %d found at position %d' % (int(input_str[start:i]), start))\n",
    "            return int(input_str[start:i])\n",
    "    return 0\n",
    "\n",
    "# save the first number in the version string in an int array\n",
    "soft_ver_num = np.zeros(tr_data_m.shape[0])\n",
    "for i in range(tr_data_m.shape[0]): #tr_data_m.shape[0]\n",
    "    soft_ver_num[i] = find_first_num(tr_data_m['softwareVersion'][i])\n",
    "\n",
    "# add the new feature to the data frame\n",
    "tr_data_m.insert(1, 'softwareVersion_num', soft_ver_num)\n",
    "\n",
    "# remove 'campaignId' column\n",
    "tr_data_m = tr_data_m.drop(columns=\"softwareVersion\")\n",
    "\n",
    "# uncomment the following two lines to see how the values have changed\n",
    "#print(tr_data_m['softwareVersion_num'].value_counts())\n",
    "#print(tr_data['softwareVersion'].value_counts())"
   ]
  },
  {
   "cell_type": "code",
   "execution_count": null,
   "metadata": {
    "scrolled": true
   },
   "outputs": [],
   "source": [
    "print(tr_data_m['softwareVersion_num'].value_counts())\n",
    "print(tr_data['softwareVersion'].value_counts())"
   ]
  },
  {
   "cell_type": "markdown",
   "metadata": {},
   "source": [
    "### *sourceGameId*: \n",
    "* the game id of the publishing game"
   ]
  },
  {
   "cell_type": "code",
   "execution_count": null,
   "metadata": {},
   "outputs": [],
   "source": [
    "# compute campain frequencies\n",
    "gameId_counts = tr_data_m['sourceGameId'].value_counts()\n",
    "#find the number of installs for each gameId\n",
    "install_1_frame = tr_data_m[tr_data_m['install'] == 1]\n",
    "install_per_campain = np.zeros(campainId_counts.shape[0])\n",
    "for i in range(campainId_counts.shape[0]):  \n",
    "    install_per_campain[i] = sum(install_1_frame['campaignId'] == campainId_counts.index[i])\n",
    "\n",
    "# plot campain frequencies against number of installs\n",
    "plt.figure()\n",
    "plt.plot(campainId_counts,install_per_campain,'.', label='campain')\n",
    "plt.plot([0,campainId_counts[0]],[0,campainId_counts[0]*(Y.sum()/Y.shape[0])], label='average install')\n",
    "plt.legend()\n",
    "plt.title(\"campain frequency against number of installs\")\n",
    "plt.xlabel(\"campain frequency\")\n",
    "plt.ylabel(\"number of installs\")\n",
    "\n",
    "# plot install ratio for frequent campains\n",
    "#install_ratio = install_per_campain/campainId_counts\n",
    "#plt.figure()\n",
    "#plt.plot(range(1000),100*install_ratio[:1000],'.')\n",
    "#plt.title(\"Install ratio of popular campains (more than {} appearance)\".format(campainId_counts[100]))\n",
    "#plt.xlabel(\"frequent campains (sorted)\")\n",
    "#plt.ylabel(\"install ratio\")\n",
    "\n",
    "plt.show()\n",
    "\n",
    "#print(campainId_counts)\n",
    "#print(install_per_campain)\n",
    "#print(install_ratio)"
   ]
  },
  {
   "cell_type": "code",
   "execution_count": null,
   "metadata": {},
   "outputs": [],
   "source": [
    "with pd.option_context('display.max_rows', 5, 'display.max_columns', None, 'display.width', 100):\n",
    "    print(tr_data_m.head())"
   ]
  },
  {
   "cell_type": "markdown",
   "metadata": {},
   "source": [
    "     \n",
    "\n",
    "**country**:                  the country of the user\n",
    "\n",
    "**startCount**:               how many times the user has ever started a campaign ever\n",
    "\n",
    "**viewCount**:                how many times the user has ever viewed a campaign ever\n",
    "\n",
    "**clickCount**:               how many times the user has ever clicked a campaign ever\n",
    "\n",
    "**installCount**:             how many times the user has installed games from this network ever\n",
    "\n",
    "**startCount1d**:             how many times user has started (any) campaigns within the last 24h\n",
    "\n",
    "**startCount7d**:             how many times user has started (any) campaigns within the last 7 days\n",
    "\n",
    "**connectionType**:           internet connection type\n",
    "\n",
    "**deviceType**:               device model\n",
    "\n",
    "**install**:                  binary indicator whether install was observed (install=1) or was not observed (install=0) after impression\n",
    "\n",
    "\n",
    "\n"
   ]
  },
  {
   "cell_type": "code",
   "execution_count": null,
   "metadata": {},
   "outputs": [],
   "source": [
    "str_s.str.contains(\"a\")"
   ]
  },
  {
   "cell_type": "code",
   "execution_count": null,
   "metadata": {
    "scrolled": true
   },
   "outputs": [],
   "source": [
    "campainId_counts = tr_data_m['campaignId'].value_counts()\n",
    "plt.plot(range(campainId_counts.shape[0]),campainId_counts)\n",
    "plt.title(\"campain ID counts\")\n",
    "plt.xlabel(\"campain IDs\")\n",
    "plt.ylabel(\"number of appearances\")\n",
    "plt.show()\n",
    "\n",
    "\n",
    "\n"
   ]
  },
  {
   "cell_type": "code",
   "execution_count": null,
   "metadata": {},
   "outputs": [],
   "source": [
    "campainId_counts = tr_data['campaignId'].value_counts()\n",
    "#plt.plot(range(campainId_counts.shape[0]),campainId_counts)\n",
    "#plt.plot(range(campainId_counts.shape[0]),install_per_campain)\n",
    "plt.plot(range(campainId_counts.shape[0]),install_per_campain/campainId_counts)\n",
    "plt.title(\"campain ID counts\")\n",
    "plt.xlabel(\"campain IDs\")\n",
    "plt.ylabel(\"number of appearances\")\n",
    "plt.show()\n",
    "\n",
    "print(campainId_counts)\n",
    "print(install_per_campain)\n",
    "print(install_per_campain/campainId_counts)"
   ]
  },
  {
   "cell_type": "code",
   "execution_count": null,
   "metadata": {},
   "outputs": [],
   "source": [
    "#Let's iterate through y once and then compute install_per_campain \n",
    "Need to have a dic that maps the campainId to an index (easy to have)\n",
    "\n",
    "#plt.plot(install_per_campain)\n",
    "#plt.show()\n",
    "#print(campainId_counts[0])\n",
    "#tr_data.loc[campainId_counts[0], \"install\"]\n",
    "\n",
    "#tr_data[tr_data[\"install\"].isin(1)]"
   ]
  },
  {
   "cell_type": "code",
   "execution_count": null,
   "metadata": {},
   "outputs": [],
   "source": [
    "tr_data['country'].describe()\n",
    "\n",
    "USE ALEX LOG REG FOR PROBABILITY COMPUTATION USING LOG REL AND ALSO CONF MATRIX\n",
    "ALSO TRY THE DECISION TREE!"
   ]
  },
  {
   "cell_type": "code",
   "execution_count": null,
   "metadata": {
    "scrolled": false
   },
   "outputs": [],
   "source": [
    "#let's see how the final data looks like\n",
    "tr_data.describe()"
   ]
  }
 ],
 "metadata": {
  "kernelspec": {
   "display_name": "Python 3",
   "language": "python",
   "name": "python3"
  },
  "language_info": {
   "codemirror_mode": {
    "name": "ipython",
    "version": 3
   },
   "file_extension": ".py",
   "mimetype": "text/x-python",
   "name": "python",
   "nbconvert_exporter": "python",
   "pygments_lexer": "ipython3",
   "version": "3.6.5"
  }
 },
 "nbformat": 4,
 "nbformat_minor": 2
}
